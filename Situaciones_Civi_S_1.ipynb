{
  "nbformat": 4,
  "nbformat_minor": 0,
  "metadata": {
    "colab": {
      "provenance": [],
      "authorship_tag": "ABX9TyO+5xZ0tHB9F6seeUOb8hKJ",
      "include_colab_link": true
    },
    "kernelspec": {
      "name": "python3",
      "display_name": "Python 3"
    },
    "language_info": {
      "name": "python"
    }
  },
  "cells": [
    {
      "cell_type": "markdown",
      "metadata": {
        "id": "view-in-github",
        "colab_type": "text"
      },
      "source": [
        "<a href=\"https://colab.research.google.com/github/Jnanarr028/Situaciones_Civi_S_1/blob/main/Situaciones_Civi_S_1.ipynb\" target=\"_parent\"><img src=\"https://colab.research.google.com/assets/colab-badge.svg\" alt=\"Open In Colab\"/></a>"
      ]
    },
    {
      "cell_type": "markdown",
      "source": [
        "# 1. Situación de ingeniería Agricola\n",
        "\n",
        "Un agricultor necesita saber cuántos kilogramos\n",
        "de semilla de maíz debe comprar para sembrar un lote rectangular. Conoce la densidad de siembra\n",
        "recomendada (kg por hectárea) y las dimensiones del lote (largo y ancho en metros)."
      ],
      "metadata": {
        "id": "uYrAf5hpoOoF"
      }
    },
    {
      "cell_type": "code",
      "execution_count": null,
      "metadata": {
        "colab": {
          "base_uri": "https://localhost:8080/"
        },
        "id": "jobq--PSmN2e",
        "outputId": "e264ae35-c0b9-46bb-e74d-15fd80460214"
      },
      "outputs": [
        {
          "output_type": "stream",
          "name": "stdout",
          "text": [
            "Bienvenido el programa de cálculo de densidad de siembra\n"
          ]
        }
      ],
      "source": [
        "# 1. Saludar al usuario y explicar qué hace el programa.\n",
        "print(\"Bienvenido el programa de cálculo de densidad de siembra\")\n",
        "\n",
        "# 2. Pedir al usuario que ingrese el largo del lote en metros (input sin convertir).\n",
        "largo = input(\"Ingrese el largo del lote en metros: \")\n",
        "\n",
        "# 3. Pedir al usuario que ingrese el ancho del lote en metros (input sin conversión con float).\n",
        "ancho = input(\"Ingrese el ancho del lote en metros: \")\n",
        "\n",
        "# 4. Pedir la densidad de siembra en kg/hectárea.\n",
        "densidad = input(\"Ingrese la densidad de siembra en kg/hectárea: \")\n",
        "\n",
        "#5 Convertir las entradas de texto a números decimales (float).\n",
        "largo = float(largo)\n",
        "ancho = float(ancho)\n",
        "densidad = float(densidad)\n",
        "\n",
        "#6 Calcular el área en metros cuadrados (largo * ancho).\n",
        "área = largo * ancho\n",
        "\n",
        "#7 Calcular la densidad de siembra en kg/hectárea (área * densidad).\n",
        "densidad_siembra = área * densidad\n",
        "\n",
        "#8 Mostrar el resultado al usuario.\n",
        "print(\"La densidad de siembra recomendada es:\", densidad_siembra, \"kg/ha\")"
      ]
    },
    {
      "cell_type": "markdown",
      "metadata": {
        "id": "a727e1fd"
      },
      "source": [
        "Aquí tienes una explicación línea por línea del código:\n",
        "\n",
        "*   `print(\"Bienvenido el programa de cálculo de densidad de siembra\")`: Esta línea imprime un mensaje de bienvenida para el usuario al iniciar el programa.\n",
        "*   `largo = input(\"Ingrese el largo del lote en metros: \")`: Esta línea le pide al usuario que ingrese el largo del lote en metros y guarda la entrada como texto en la variable `largo`.\n",
        "*   `ancho = input(\"Ingrese el ancho del lote en metros: \")`: Similar a la anterior, esta línea pide al ancho del lote y lo guarda como texto en la variable `ancho`.\n",
        "*   `densidad = input(\"Ingrese la densidad de siembra en kg/hectárea: \")`: Esta línea solicita al usuario la densidad de siembra en kg por hectárea y guarda la entrada como texto en la variable `densidad`.\n",
        "*   `largo = float(largo)`: Convierte el texto ingresado para el largo a un número decimal (flotante) y actualiza la variable `largo`.\n",
        "*   `ancho = float(ancho)`: Convierte el texto ingresado para el ancho a un número decimal (flotante) y actualiza la variable `ancho`.\n",
        "*   `densidad = float(densidad)`: Convierte el texto ingresado para la densidad a un número decimal (flotante) y actualiza la variable `densidad`.\n",
        "*   `área = largo * ancho`: Calcula el área del lote multiplicando el largo por el ancho y guarda el resultado en la variable `área`.\n",
        "*   `densidad_siembra = área * densidad`: **Nota**: Esta línea calcula la *densidad de siembra por hectárea multiplicada por el área en metros cuadrados*, lo cual no es la densidad de siembra total en kg para el lote. Para calcular los kg totales de semilla necesarios, se necesitaría convertir el área de metros cuadrados a hectáreas y luego multiplicarla por la densidad de siembra en kg/hectárea.\n",
        "*   `print(\"La densidad de siembra recomendada es:\", densidad_siembra, \"kg/ha\")`: Esta línea muestra al usuario el resultado del cálculo almacenado en `densidad_siembra`."
      ]
    },
    {
      "cell_type": "markdown",
      "source": [
        "# 2. Situación de Interés en Ingeniería Agroindustrial\n",
        "\n",
        "se quiere calcular el rendimiento de un lote de fruta. Se necesita un programa simple que tome el\n",
        "peso inicial de los mangos antes de pelarlos y deshuesarlos, y el peso final de la pulpa obtenida, para\n",
        "expresar el rendimiento como un porcentaje.\n"
      ],
      "metadata": {
        "id": "Fyos7Y801bUE"
      }
    },
    {
      "cell_type": "code",
      "source": [
        "# 1. Explicar el propósito de la calculadora.\n",
        "print(\"Bienvenido a la calculadora de rendimiento de mangos\")\n",
        "\n",
        "# 2. Pedir al usuario que ingrese el peso inicial de los mangos en kg (input).\n",
        "peso_inicial = input(\"Ingrese el peso inicial de los mangos en kg: \")\n",
        "\n",
        "# 3. Pedir al usuario que ingrese el peso final de la pulpa en kg (input).\n",
        "peso_final = input(\"Ingrese el peso final de la pulpa en kg: \")\n",
        "\n",
        "# 4. Convertir ambos pesos a números decimales (float).\n",
        "peso_inicial = float(peso_inicial)\n",
        "peso_final = float(peso_final)\n",
        "\n",
        "# 5. Calcular el rendimiento usando la fórmula: (peso_final / peso_inicial) * 100.\n",
        "rendimiento = (peso_final / peso_inicial) * 100\n",
        "\n",
        "# 6. Mostrar el resultado al usuario.\n",
        "print(\"El rendimiento del lote de mangos es:\", rendimiento, \"%\")\n",
        "\n",
        "# 7. Mostrar el resultado del rendimiento, formateado como porcentaje.\n",
        "print(\"El rendimiento del lote de mangos es: {:.2f}%\".format(rendimiento))\n"
      ],
      "metadata": {
        "id": "dRsPNiqS18Ci"
      },
      "execution_count": null,
      "outputs": []
    },
    {
      "cell_type": "markdown",
      "metadata": {
        "id": "29081241"
      },
      "source": [
        "Aquí tienes una explicación línea por línea del código:\n",
        "\n",
        "*   `print(\"Bienvenido a la calculadora de rendimiento de mangos\")`: Esta línea imprime un mensaje de bienvenida al usuario.\n",
        "*   `peso_inicial = input(\"Ingrese el peso inicial de los mangos en kg: \")`: Pide al usuario que ingrese el peso inicial de los mangos y lo guarda como texto en la variable `peso_inicial`.\n",
        "*   `peso_final = input(\"Ingrese el peso final de la pulpa en kg: \")`: Pide al usuario que ingrese el peso final de la pulpa y lo guarda como texto en la variable `peso_final`.\n",
        "*   `peso_inicial = float(peso_inicial)`: Convierte el texto ingresado para el peso inicial a un número decimal (flotante).\n",
        "*   `peso_final = float(peso_final)`: Convierte el texto ingresado para el peso final a un número decimal (flotante).\n",
        "*   `rendimiento = (peso_final / peso_inicial) * 100`: Calcula el rendimiento como el porcentaje del peso final respecto al peso inicial.\n",
        "*   `print(\"El rendimiento del lote de mangos es:\", rendimiento, \"%\")`: Muestra el resultado del rendimiento al usuario.\n",
        "*   `print(\"El rendimiento del lote de mangos es: {:.2f}%\".format(rendimiento))`: Muestra el resultado del rendimiento formateado a dos decimales y con el símbolo de porcentaje."
      ]
    },
    {
      "cell_type": "markdown",
      "source": [
        "#  3. Situación de Interés en Ingeniería Civil\n",
        "\n",
        "Un ingeniero residente de obra necesita calcular\n",
        "rápidamente el volumen de concreto necesario para vaciar una losa de piso rectangular simple. Debe\n",
        "poder ingresar el largo, el ancho y el espesor de la losa para obtener el volumen en metros cúbicos."
      ],
      "metadata": {
        "id": "E1C1YYBZ5ThM"
      }
    },
    {
      "cell_type": "code",
      "source": [
        "# 1. Presentar la herramienta al usuario.\n",
        "print(\"Bienvenido a la herramienta de cálculo de volumen de concreto\")\n",
        "\n",
        "# 2. Solicitar el largo, ancho y espesor de la losa, todos en metros (input).\n",
        "largo = input(\"Ingrese el largo de la losa en metros: \")\n",
        "ancho = input(\"Ingrese el ancho de la losa en metros: \")\n",
        "espesor = input(\"Ingrese el espesor de la losa en metros: \")\n",
        "\n",
        "# 3. Convertir todas las entradas a números decimales (float).\n",
        "largo = float(largo)\n",
        "ancho = float(ancho)\n",
        "espesor = float(espesor)\n",
        "\n",
        "# 4. Calcular el volumen del concreto usando la fórmula: largo * ancho * espesor.\n",
        "volumen = largo * ancho * espesor\n",
        "\n",
        "# 5. Presentar el volumen calculado en metros cúbicos.\n",
        "print = (\"El volumen de concreto necesario es:\", volumen, \"metros cúbicos\")\n"
      ],
      "metadata": {
        "id": "D91TE5bb5pu4"
      },
      "execution_count": null,
      "outputs": []
    },
    {
      "cell_type": "markdown",
      "metadata": {
        "id": "7578ab13"
      },
      "source": [
        "Aquí tienes una explicación línea por línea del código:\n",
        "\n",
        "*   `print(\"Bienvenido a la herramienta de cálculo de volumen de concreto\")`: Esta línea presenta la herramienta al usuario.\n",
        "*   `largo = input(\"Ingrese el largo de la losa en metros: \")`: Solicita al usuario que ingrese el largo de la losa y lo guarda como texto en la variable `largo`.\n",
        "*   `ancho = input(\"Ingrese el ancho de la losa en metros: \")`: Solicita al usuario que ingrese el ancho de la losa y lo guarda como texto en la variable `ancho`.\n",
        "*   `espesor = input(\"Ingrese el espesor de la losa en metros: \")`: Solicita al usuario que ingrese el espesor de la losa y lo guarda como texto en la variable `espesor`.\n",
        "*   `largo = float(largo)`: Convierte el texto ingresado para el largo a un número decimal (flotante).\n",
        "*   `ancho = float(ancho)`: Convierte el texto ingresado para el ancho a un número decimal (flotante).\n",
        "*   `espesor = float(espesor)`: Convierte el texto ingresado para el espesor a un número decimal (flotante).\n",
        "*   `volumen = largo * ancho * espesor`: Calcula el volumen del concreto multiplicando el largo, ancho y espesor.\n",
        "*   `print = (\"El volumen de concreto necesario es:\", volumen, \"metros cúbicos\")`: **Nota**: Esta línea sobrescribe la función `print` con una tupla, lo que impedirá futuras impresiones. Debería ser `print(\"El volumen de concreto necesario es:\", volumen, \"metros cúbicos\")`."
      ]
    }
  ]
}