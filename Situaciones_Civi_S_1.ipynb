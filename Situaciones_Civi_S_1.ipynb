{
  "nbformat": 4,
  "nbformat_minor": 0,
  "metadata": {
    "colab": {
      "provenance": [],
      "authorship_tag": "ABX9TyPpHta1z+/J+i/0p1XqAR2K",
      "include_colab_link": true
    },
    "kernelspec": {
      "name": "python3",
      "display_name": "Python 3"
    },
    "language_info": {
      "name": "python"
    }
  },
  "cells": [
    {
      "cell_type": "markdown",
      "metadata": {
        "id": "view-in-github",
        "colab_type": "text"
      },
      "source": [
        "<a href=\"https://colab.research.google.com/github/Jnanarr028/Situaciones_Civi_S_1/blob/main/Situaciones_Civi_S_1.ipynb\" target=\"_parent\"><img src=\"https://colab.research.google.com/assets/colab-badge.svg\" alt=\"Open In Colab\"/></a>"
      ]
    },
    {
      "cell_type": "markdown",
      "source": [
        "# Situación de ingeniería Agricola\n",
        "\n",
        "Un agricultor necesita saber cuántos kilogramos\n",
        "de semilla de maíz debe comprar para sembrar un lote rectangular. Conoce la densidad de siembra\n",
        "recomendada (kg por hectárea) y las dimensiones del lote (largo y ancho en metros)."
      ],
      "metadata": {
        "id": "uYrAf5hpoOoF"
      }
    },
    {
      "cell_type": "code",
      "execution_count": null,
      "metadata": {
        "colab": {
          "base_uri": "https://localhost:8080/"
        },
        "id": "jobq--PSmN2e",
        "outputId": "e264ae35-c0b9-46bb-e74d-15fd80460214"
      },
      "outputs": [
        {
          "output_type": "stream",
          "name": "stdout",
          "text": [
            "Bienvenido el programa de cálculo de densidad de siembra\n"
          ]
        }
      ],
      "source": [
        "# 1. Saludar al usuario y explicar qué hace el programa.\n",
        "print(\"Bienvenido el programa de cálculo de densidad de siembra\")\n",
        "\n",
        "# 2. Pedir al usuario que ingrese el largo del lote en metros (input sin convertir).\n",
        "largo = input(\"Ingrese el largo del lote en metros: \")\n",
        "\n",
        "# 3. Pedir al usuario que ingrese el ancho del lote en metros (input sin conversión con float).\n",
        "ancho = input(\"Ingrese el ancho del lote en metros: \")\n",
        "\n",
        "# 4. Pedir la densidad de siembra en kg/hectárea.\n",
        "densidad = input(\"Ingrese la densidad de siembra en kg/hectárea: \")\n",
        "\n",
        "#5 Convertir las entradas de texto a números decimales (float).\n",
        "largo = float(largo)\n",
        "ancho = float(ancho)\n",
        "densidad = float(densidad)\n",
        "\n",
        "#6 Calcular el área en metros cuadrados (largo * ancho).\n",
        "área = largo * ancho\n",
        "\n",
        "#7 Calcular la densidad de siembra en kg/hectárea (área * densidad).\n",
        "densidad_siembra = área * densidad\n",
        "\n",
        "#8 Mostrar el resultado al usuario.\n",
        "print(\"La densidad de siembra recomendada es:\", densidad_siembra, \"kg/ha\")"
      ]
    },
    {
      "cell_type": "markdown",
      "metadata": {
        "id": "a727e1fd"
      },
      "source": [
        "Aquí tienes una explicación línea por línea del código:\n",
        "\n",
        "*   `print(\"Bienvenido el programa de cálculo de densidad de siembra\")`: Esta línea imprime un mensaje de bienvenida para el usuario al iniciar el programa.\n",
        "*   `largo = input(\"Ingrese el largo del lote en metros: \")`: Esta línea le pide al usuario que ingrese el largo del lote en metros y guarda la entrada como texto en la variable `largo`.\n",
        "*   `ancho = input(\"Ingrese el ancho del lote en metros: \")`: Similar a la anterior, esta línea pide al ancho del lote y lo guarda como texto en la variable `ancho`.\n",
        "*   `densidad = input(\"Ingrese la densidad de siembra en kg/hectárea: \")`: Esta línea solicita al usuario la densidad de siembra en kg por hectárea y guarda la entrada como texto en la variable `densidad`.\n",
        "*   `largo = float(largo)`: Convierte el texto ingresado para el largo a un número decimal (flotante) y actualiza la variable `largo`.\n",
        "*   `ancho = float(ancho)`: Convierte el texto ingresado para el ancho a un número decimal (flotante) y actualiza la variable `ancho`.\n",
        "*   `densidad = float(densidad)`: Convierte el texto ingresado para la densidad a un número decimal (flotante) y actualiza la variable `densidad`.\n",
        "*   `área = largo * ancho`: Calcula el área del lote multiplicando el largo por el ancho y guarda el resultado en la variable `área`.\n",
        "*   `densidad_siembra = área * densidad`: **Nota**: Esta línea calcula la *densidad de siembra por hectárea multiplicada por el área en metros cuadrados*, lo cual no es la densidad de siembra total en kg para el lote. Para calcular los kg totales de semilla necesarios, se necesitaría convertir el área de metros cuadrados a hectáreas y luego multiplicarla por la densidad de siembra en kg/hectárea.\n",
        "*   `print(\"La densidad de siembra recomendada es:\", densidad_siembra, \"kg/ha\")`: Esta línea muestra al usuario el resultado del cálculo almacenado en `densidad_siembra`."
      ]
    }
  ]
}